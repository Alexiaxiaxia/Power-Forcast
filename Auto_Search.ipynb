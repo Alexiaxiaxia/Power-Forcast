{
 "cells": [
  {
   "cell_type": "code",
   "execution_count": 18,
   "metadata": {},
   "outputs": [],
   "source": [
    "import xgboost as xgb\n",
    "from xgboost import XGBRegressor\n",
    "from xgboost import plot_importance\n",
    "import numpy  as np\n",
    "from sklearn.model_selection import train_test_split\n",
    "from sklearn.metrics import mean_squared_error\n",
    "from sklearn.metrics import r2_score\n",
    "from sklearn.metrics import mean_absolute_percentage_error as MAPE\n",
    "from sklearn.model_selection import cross_val_score as CVS, KFold\n",
    "from sklearn.model_selection import GridSearchCV\n",
    "from sklearn.metrics import mean_squared_error as MSE\n",
    "import matplotlib.pyplot as plt\n",
    "import numpy as np\n",
    "import pandas as pd\n",
    "\n",
    "import seaborn as sns\n",
    "import matplotlib.pyplot as plt\n",
    "from xgboost import XGBClassifier \n",
    "from sklearn.preprocessing import LabelEncoder\n",
    "\n",
    "from matplotlib import pyplot\n",
    "from xgboost import plot_importance\n",
    "from datetime import datetime\n",
    "\n",
    "from sklearn.metrics import accuracy_score\n",
    "\n",
    "#from sklearn.model_selection import RepeatedStratifiedKFold\n",
    "\n",
    "import warnings\n",
    "warnings.filterwarnings(\"ignore\")\n",
    "\n",
    "from time import time\n",
    "import datetime\n",
    "\n",
    "# df= pd.read_csv('file.csv')\n",
    "\n",
    "df= pd.read_csv('__source__.csv')\n"
   ]
  },
  {
   "cell_type": "code",
   "execution_count": 19,
   "metadata": {},
   "outputs": [],
   "source": [
    "sam = 65000\n",
    "df = df.iloc[:sam]\n",
    "\n",
    "df2 = df\n",
    "\n",
    "dfdata = df.loc[:,df.columns.drop('power')]\n",
    "\n",
    "# dfdata = df.loc[:,['T','direction32','ws30','dir10','mslp','clc','senf','latf','swr','lwr','ps','T2m','RH2m','Time','month']]\n",
    "dfpower = df['power']\n",
    "\n",
    "\n",
    "def split_function(split,dfdata,dfpower,df2):\n",
    "    '''\n",
    "    这里写了个分列的函数，split 的意思是以多少分开（也许后期可以改成以多少百分比分开，只需要检测一下sample number就行），\n",
    "    dfdata 是输入的那些数据pandas集， dfpower是输出的那些数据pandas集\n",
    "    输出结果test代表验证集 train可以用来测试数据\n",
    "    \n",
    "    '''\n",
    "    testData = dfdata.iloc[split:]\n",
    "    testPower = dfpower.iloc[split:]\n",
    "    trainPower = dfpower.iloc[:split]\n",
    "    trainData = dfdata.iloc[:split]\n",
    "    valid = df2.iloc[split:]\n",
    "    return testData,testPower,trainPower,trainData,valid\n",
    "\n",
    "split = 60000 # 从一万开始分开\n",
    "X_test,y_test,y_train,X_train,valid = split_function(split,dfdata,dfpower,df2)\n",
    "\n"
   ]
  },
  {
   "cell_type": "code",
   "execution_count": 20,
   "metadata": {},
   "outputs": [],
   "source": [
    "import tensorflow as tf\n",
    "from tensorflow import keras\n",
    "from keras.models import Model\n",
    "from sklearn.model_selection import RandomizedSearchCV\n"
   ]
  },
  {
   "cell_type": "code",
   "execution_count": 21,
   "metadata": {},
   "outputs": [],
   "source": [
    "# 不能用labelEncoder\n",
    "# le = LabelEncoder()\n",
    "# Y_train = le.fit_transform(Y_train)\n",
    "\n",
    "### fit model for train data\n",
    "model = XGBRegressor()\n",
    "\n",
    " "
   ]
  },
  {
   "cell_type": "code",
   "execution_count": 22,
   "metadata": {},
   "outputs": [
    {
     "name": "stdout",
     "output_type": "stream",
     "text": [
      "Fitting 5 folds for each of 100 candidates, totalling 500 fits\n",
      "[02:22:22] WARNING: C:/Users/Administrator/workspace/xgboost-win64_release_1.6.0/src/learner.cc:627: \n",
      "Parameters: { \"min_child_samples\" } might not be used.\n",
      "\n",
      "  This could be a false alarm, with some parameters getting used by language bindings but\n",
      "  then being mistakenly passed down to XGBoost core, or some parameter actually being used\n",
      "  but getting flagged wrongly here. Please open an issue if you find any such cases.\n",
      "\n",
      "\n"
     ]
    },
    {
     "data": {
      "text/plain": [
       "{'subsample': 0.8,\n",
       " 'reg_lambda': 10,\n",
       " 'reg_alpha': 10,\n",
       " 'n_estimators': 450,\n",
       " 'min_child_samples': 10,\n",
       " 'max_depth': 30,\n",
       " 'max_delta_step': 7,\n",
       " 'learning_rate': 0.1,\n",
       " 'gamma': 0,\n",
       " 'colsample_bytree': 1.0}"
      ]
     },
     "execution_count": 22,
     "metadata": {},
     "output_type": "execute_result"
    }
   ],
   "source": [
    "from math import gamma\n",
    "\n",
    "\n",
    "\n",
    "params_s={'max_depth':[5,10,20,30,40,50],\n",
    "            'n_estimators':[100,150,200,300,350,400,450,500,550,700,750],\n",
    "            'learning_rate': [0.1,0.2, 0.3,0.4,0.5,0.8],\n",
    "            'min_child_samples':[10,50,100,200],\n",
    "            'colsample_bytree':[0.7,0.8,0.9,1.0],\n",
    "            'gamma':[0,0.01,0.1,1],\n",
    "            'subsample':[0.6, 0.7, 0.8, 0.9, 1],\n",
    "            'reg_alpha':[0, 0.01,0.1, 1,2,3,4,5,7,10],\n",
    "            'reg_lambda':[0, 0.1, 0.5, 1,2,3,4,5,7,10],\n",
    "\n",
    "            'max_delta_step':[0,1,2,3,4,5,7,10]\n",
    "            }\n",
    "model=RandomizedSearchCV(model,params_s,n_iter=100,scoring='neg_mean_absolute_error',cv=5,verbose=1,random_state=42,n_jobs=-1)\n",
    "model.fit(X_train, y_train) \n",
    "# model=GridSearchCV(model,params_s,scoring='neg_root_mean_squared_error',cv=2,verbose=1,n_jobs=-1)\n",
    "best_part = model.best_params_\n",
    "best_part\n"
   ]
  },
  {
   "cell_type": "code",
   "execution_count": 23,
   "metadata": {},
   "outputs": [
    {
     "name": "stdout",
     "output_type": "stream",
     "text": [
      "[02:22:49] WARNING: C:/Users/Administrator/workspace/xgboost-win64_release_1.6.0/src/learner.cc:627: \n",
      "Parameters: { \"min_child_samples\" } might not be used.\n",
      "\n",
      "  This could be a false alarm, with some parameters getting used by language bindings but\n",
      "  then being mistakenly passed down to XGBoost core, or some parameter actually being used\n",
      "  but getting flagged wrongly here. Please open an issue if you find any such cases.\n",
      "\n",
      "\n"
     ]
    },
    {
     "data": {
      "text/html": [
       "<style>#sk-container-id-2 {color: black;background-color: white;}#sk-container-id-2 pre{padding: 0;}#sk-container-id-2 div.sk-toggleable {background-color: white;}#sk-container-id-2 label.sk-toggleable__label {cursor: pointer;display: block;width: 100%;margin-bottom: 0;padding: 0.3em;box-sizing: border-box;text-align: center;}#sk-container-id-2 label.sk-toggleable__label-arrow:before {content: \"▸\";float: left;margin-right: 0.25em;color: #696969;}#sk-container-id-2 label.sk-toggleable__label-arrow:hover:before {color: black;}#sk-container-id-2 div.sk-estimator:hover label.sk-toggleable__label-arrow:before {color: black;}#sk-container-id-2 div.sk-toggleable__content {max-height: 0;max-width: 0;overflow: hidden;text-align: left;background-color: #f0f8ff;}#sk-container-id-2 div.sk-toggleable__content pre {margin: 0.2em;color: black;border-radius: 0.25em;background-color: #f0f8ff;}#sk-container-id-2 input.sk-toggleable__control:checked~div.sk-toggleable__content {max-height: 200px;max-width: 100%;overflow: auto;}#sk-container-id-2 input.sk-toggleable__control:checked~label.sk-toggleable__label-arrow:before {content: \"▾\";}#sk-container-id-2 div.sk-estimator input.sk-toggleable__control:checked~label.sk-toggleable__label {background-color: #d4ebff;}#sk-container-id-2 div.sk-label input.sk-toggleable__control:checked~label.sk-toggleable__label {background-color: #d4ebff;}#sk-container-id-2 input.sk-hidden--visually {border: 0;clip: rect(1px 1px 1px 1px);clip: rect(1px, 1px, 1px, 1px);height: 1px;margin: -1px;overflow: hidden;padding: 0;position: absolute;width: 1px;}#sk-container-id-2 div.sk-estimator {font-family: monospace;background-color: #f0f8ff;border: 1px dotted black;border-radius: 0.25em;box-sizing: border-box;margin-bottom: 0.5em;}#sk-container-id-2 div.sk-estimator:hover {background-color: #d4ebff;}#sk-container-id-2 div.sk-parallel-item::after {content: \"\";width: 100%;border-bottom: 1px solid gray;flex-grow: 1;}#sk-container-id-2 div.sk-label:hover label.sk-toggleable__label {background-color: #d4ebff;}#sk-container-id-2 div.sk-serial::before {content: \"\";position: absolute;border-left: 1px solid gray;box-sizing: border-box;top: 0;bottom: 0;left: 50%;z-index: 0;}#sk-container-id-2 div.sk-serial {display: flex;flex-direction: column;align-items: center;background-color: white;padding-right: 0.2em;padding-left: 0.2em;position: relative;}#sk-container-id-2 div.sk-item {position: relative;z-index: 1;}#sk-container-id-2 div.sk-parallel {display: flex;align-items: stretch;justify-content: center;background-color: white;position: relative;}#sk-container-id-2 div.sk-item::before, #sk-container-id-2 div.sk-parallel-item::before {content: \"\";position: absolute;border-left: 1px solid gray;box-sizing: border-box;top: 0;bottom: 0;left: 50%;z-index: -1;}#sk-container-id-2 div.sk-parallel-item {display: flex;flex-direction: column;z-index: 1;position: relative;background-color: white;}#sk-container-id-2 div.sk-parallel-item:first-child::after {align-self: flex-end;width: 50%;}#sk-container-id-2 div.sk-parallel-item:last-child::after {align-self: flex-start;width: 50%;}#sk-container-id-2 div.sk-parallel-item:only-child::after {width: 0;}#sk-container-id-2 div.sk-dashed-wrapped {border: 1px dashed gray;margin: 0 0.4em 0.5em 0.4em;box-sizing: border-box;padding-bottom: 0.4em;background-color: white;}#sk-container-id-2 div.sk-label label {font-family: monospace;font-weight: bold;display: inline-block;line-height: 1.2em;}#sk-container-id-2 div.sk-label-container {text-align: center;}#sk-container-id-2 div.sk-container {/* jupyter's `normalize.less` sets `[hidden] { display: none; }` but bootstrap.min.css set `[hidden] { display: none !important; }` so we also need the `!important` here to be able to override the default hidden behavior on the sphinx rendered scikit-learn.org. See: https://github.com/scikit-learn/scikit-learn/issues/21755 */display: inline-block !important;position: relative;}#sk-container-id-2 div.sk-text-repr-fallback {display: none;}</style><div id=\"sk-container-id-2\" class=\"sk-top-container\"><div class=\"sk-text-repr-fallback\"><pre>XGBRegressor(base_score=0.5, booster=&#x27;gbtree&#x27;, callbacks=None,\n",
       "             colsample_bylevel=1, colsample_bynode=1, colsample_bytree=1.0,\n",
       "             early_stopping_rounds=None, enable_categorical=False,\n",
       "             eval_metric=None, gamma=0, gpu_id=-1, grow_policy=&#x27;depthwise&#x27;,\n",
       "             importance_type=None, interaction_constraints=&#x27;&#x27;,\n",
       "             learning_rate=0.1, max_bin=256, max_cat_to_onehot=4,\n",
       "             max_delta_step=7, max_depth=30, max_leaves=0, min_child_samples=10,\n",
       "             min_child_weight=1, missing=nan, monotone_constraints=&#x27;()&#x27;,\n",
       "             n_estimators=450, n_jobs=0, num_parallel_tree=1, predictor=&#x27;auto&#x27;,\n",
       "             random_state=0, reg_alpha=10, ...)</pre><b>In a Jupyter environment, please rerun this cell to show the HTML representation or trust the notebook. <br />On GitHub, the HTML representation is unable to render, please try loading this page with nbviewer.org.</b></div><div class=\"sk-container\" hidden><div class=\"sk-item\"><div class=\"sk-estimator sk-toggleable\"><input class=\"sk-toggleable__control sk-hidden--visually\" id=\"sk-estimator-id-2\" type=\"checkbox\" checked><label for=\"sk-estimator-id-2\" class=\"sk-toggleable__label sk-toggleable__label-arrow\">XGBRegressor</label><div class=\"sk-toggleable__content\"><pre>XGBRegressor(base_score=0.5, booster=&#x27;gbtree&#x27;, callbacks=None,\n",
       "             colsample_bylevel=1, colsample_bynode=1, colsample_bytree=1.0,\n",
       "             early_stopping_rounds=None, enable_categorical=False,\n",
       "             eval_metric=None, gamma=0, gpu_id=-1, grow_policy=&#x27;depthwise&#x27;,\n",
       "             importance_type=None, interaction_constraints=&#x27;&#x27;,\n",
       "             learning_rate=0.1, max_bin=256, max_cat_to_onehot=4,\n",
       "             max_delta_step=7, max_depth=30, max_leaves=0, min_child_samples=10,\n",
       "             min_child_weight=1, missing=nan, monotone_constraints=&#x27;()&#x27;,\n",
       "             n_estimators=450, n_jobs=0, num_parallel_tree=1, predictor=&#x27;auto&#x27;,\n",
       "             random_state=0, reg_alpha=10, ...)</pre></div></div></div></div></div>"
      ],
      "text/plain": [
       "XGBRegressor(base_score=0.5, booster='gbtree', callbacks=None,\n",
       "             colsample_bylevel=1, colsample_bynode=1, colsample_bytree=1.0,\n",
       "             early_stopping_rounds=None, enable_categorical=False,\n",
       "             eval_metric=None, gamma=0, gpu_id=-1, grow_policy='depthwise',\n",
       "             importance_type=None, interaction_constraints='',\n",
       "             learning_rate=0.1, max_bin=256, max_cat_to_onehot=4,\n",
       "             max_delta_step=7, max_depth=30, max_leaves=0, min_child_samples=10,\n",
       "             min_child_weight=1, missing=nan, monotone_constraints='()',\n",
       "             n_estimators=450, n_jobs=0, num_parallel_tree=1, predictor='auto',\n",
       "             random_state=0, reg_alpha=10, ...)"
      ]
     },
     "execution_count": 23,
     "metadata": {},
     "output_type": "execute_result"
    }
   ],
   "source": [
    "\n",
    "\n",
    "'''model = XGBRegressor(max_depth=best_part['max_depth'],\n",
    "                    n_estimitors= best_part['n_estimitors'],\n",
    "                    learning_rate = best_part['learning_rate'],\n",
    "                    min_child_samples = best_part['min_child_samples'],\n",
    "                    colsample_bytree = best_part['colsample_bytree'],\n",
    "                    gamma = best_part['gamma'],\n",
    "                    booster='gbtree',\n",
    "                    reg_alpha=best_part['reg_alpha'],\n",
    "                    reg_lambda=best_part['reg_lambda'],\n",
    "                    random_state=42\n",
    "\n",
    "\n",
    ")'''\n",
    "\n",
    "# best_part = {'subsample': 0.8,\n",
    "#  'reg_lambda': 0.5,\n",
    "#  'reg_alpha': 1,\n",
    "#  'n_estimators': 150,\n",
    "#  'min_child_samples': 10,\n",
    "#  'max_depth':25,\n",
    "#  'learning_rate': 0.2,\n",
    "#  'gamma': 0.1,\n",
    "#  'colsample_bytree': 0.75\n",
    "#  }\n",
    "\n",
    "\n",
    "\n",
    "# second time \n",
    "# best_part = {'subsample': 1,\n",
    "#  'reg_lambda': 0,\n",
    "#  'reg_alpha': 5,\n",
    "#  'n_estimators': 700,\n",
    "#  'min_child_samples': 100,\n",
    "#  'max_depth': 5,\n",
    "#  'max_delta_step': 7,\n",
    "#  'learning_rate': 0.1,\n",
    "#  'gamma': 0.1,\n",
    "#  'colsample_bytree': 0.7}\n",
    "\n",
    "\n",
    "\n",
    "# {'subsample': 0.8,\n",
    "#  'reg_lambda': 10,\n",
    "#  'reg_alpha': 10,\n",
    "#  'n_estimators': 450,\n",
    "#  'min_child_samples': 10,\n",
    "#  'max_depth': 30,\n",
    "#  'max_delta_step': 7,\n",
    "#  'learning_rate': 0.1,\n",
    "#  'gamma': 0,\n",
    "#  'colsample_bytree': 1.0}\n",
    "\n",
    "\n",
    "model = XGBRegressor(max_depth=best_part['max_depth'],\n",
    "                    n_estimators= best_part['n_estimators'],\n",
    "                    learning_rate = best_part['learning_rate'],\n",
    "                    min_child_samples = best_part['min_child_samples'],\n",
    "                    colsample_bytree = best_part['colsample_bytree'],\n",
    "                    gamma = best_part['gamma'],\n",
    "                    booster='gbtree',\n",
    "                    reg_alpha=best_part['reg_alpha'],\n",
    "                    reg_lambda=best_part['reg_lambda'],\n",
    "                    max_delta_step = best_part['max_delta_step']\n",
    "                    # eval_metric = ['rsme','auc','mape']\n",
    "\n",
    "\n",
    ")\n",
    "\n",
    "model.fit(X_train,y_train)\n",
    " \n"
   ]
  },
  {
   "cell_type": "code",
   "execution_count": 24,
   "metadata": {},
   "outputs": [
    {
     "data": {
      "text/plain": [
       "0.8442162840423091"
      ]
     },
     "execution_count": 24,
     "metadata": {},
     "output_type": "execute_result"
    }
   ],
   "source": [
    "y_pred_test = model.predict(X_test)\n",
    "R2  = r2_score(y_test,y_pred_test)\n",
    "R2"
   ]
  },
  {
   "cell_type": "code",
   "execution_count": 25,
   "metadata": {},
   "outputs": [
    {
     "data": {
      "text/plain": [
       "<matplotlib.legend.Legend at 0x1bedfdf2110>"
      ]
     },
     "execution_count": 25,
     "metadata": {},
     "output_type": "execute_result"
    },
    {
     "data": {
      "image/png": "[encoded data removed]",
      "text/plain": [
       "<Figure size 432x288 with 1 Axes>"
      ]
     },
     "metadata": {
      "needs_background": "light"
     },
     "output_type": "display_data"
    }
   ],
   "source": [
    "plt.plot(range(1,501),y_test[:500],c=\"orange\",label=\"test\")\n",
    "plt.plot(range(1,501),y_pred_test[:500],c=\"blue\",label=\"prediction\")\n",
    "plt.title('Model performance at the test set')\n",
    "\n",
    "plt.legend()"
   ]
  },
  {
   "cell_type": "code",
   "execution_count": 26,
   "metadata": {},
   "outputs": [
    {
     "data": {
      "text/plain": [
       "0.9997833924842215"
      ]
     },
     "execution_count": 26,
     "metadata": {},
     "output_type": "execute_result"
    }
   ],
   "source": [
    "# \n",
    "y_pred = model.predict(X_train)\n",
    "R22  = r2_score(y_train,y_pred)\n",
    "R22"
   ]
  },
  {
   "cell_type": "code",
   "execution_count": 27,
   "metadata": {},
   "outputs": [
    {
     "data": {
      "text/plain": [
       "<matplotlib.legend.Legend at 0x1bedf1281f0>"
      ]
     },
     "execution_count": 27,
     "metadata": {},
     "output_type": "execute_result"
    },
    {
     "data": {
      "image/png": "[encoded data removed]",
      "text/plain": [
       "<Figure size 432x288 with 1 Axes>"
      ]
     },
     "metadata": {
      "needs_background": "light"
     },
     "output_type": "display_data"
    }
   ],
   "source": [
    "plt.plot(range(1,201),y_train[:200],c=\"orange\",label=\"test\")\n",
    "plt.plot(range(1,201),y_pred[:200],c=\"blue\",label=\"prediction\")\n",
    "plt.title('Model performance at the training set')\n",
    "plt.legend()"
   ]
  },
  {
   "cell_type": "code",
   "execution_count": 28,
   "metadata": {},
   "outputs": [
    {
     "name": "stdout",
     "output_type": "stream",
     "text": [
      "MAPE 3.311076653264171\n",
      "RSME 8.223108874613509\n",
      "预测平均值 21.384706\n",
      "真实平均值 21.372286271331827\n"
     ]
    }
   ],
   "source": [
    "valid['prediction'] = y_pred_test\n",
    "\n",
    "valid_larger = valid[valid['power'] >=0.1]\n",
    "y_prediction = valid_larger['prediction']\n",
    "y_real = valid_larger['power']\n",
    "\n",
    "MAPE1 = MAPE(y_prediction,y_real)\n",
    "print('MAPE',MAPE1)\n",
    "\n",
    "\n",
    "\n",
    "\n",
    "def rmse_func(y_prediction,y_real):\n",
    "    return np.sqrt(MSE(y_prediction,y_real))\n",
    "RMSE = rmse_func(y_prediction,y_real)\n",
    "print('RSME',RMSE)\n",
    "print('预测平均值',y_prediction.mean())\n",
    "print('真实平均值',y_real.mean())\n"
   ]
  },
  {
   "cell_type": "code",
   "execution_count": 29,
   "metadata": {},
   "outputs": [
    {
     "name": "stdout",
     "output_type": "stream",
     "text": [
      "SMAPE 0.3641457444995595\n"
     ]
    }
   ],
   "source": [
    "def smape_func(A,F):\n",
    "    return 1/len(A) * np.sum(2 * np.abs(F - A) / (np.abs(A) + np.abs(F)))\n",
    "\n",
    "smape = smape_func(y_prediction,y_real)\n",
    "print('SMAPE',smape)\n",
    "\n",
    "# 这个是之前提到的那个百分率\n",
    "# accuracy_factor = np.sqrt(sum((np.array(y_prediction) - np.array(y_real)) ** 2  / (y_real**2) ) )/len(y_real)\n",
    "\n",
    "# print(accuracy_factor)\n"
   ]
  },
  {
   "cell_type": "code",
   "execution_count": 30,
   "metadata": {},
   "outputs": [
    {
     "name": "stdout",
     "output_type": "stream",
     "text": [
      "2.386044285274648\n"
     ]
    }
   ],
   "source": [
    "y_pred_test_pd = pd.DataFrame(y_pred_test,columns = ['prediction'])\n",
    "y_pred_test_pd\n",
    "valid = valid.reset_index()\n",
    "valid_con = pd.concat([valid,y_pred_test_pd])\n",
    "valid_larger = valid_con[valid_con['power'] >=0.1]\n",
    "y_prediction = valid_larger['prediction']\n",
    "y_real = valid_larger['power']\n",
    "\n",
    "\n",
    "\n",
    "\n",
    "accuracy_factor = np.sqrt(sum((np.array(y_prediction) - np.array(y_real)) ** 2  / (y_real*len(y_real)) ) )\n",
    "print(accuracy_factor)\n"
   ]
  },
  {
   "cell_type": "code",
   "execution_count": 31,
   "metadata": {},
   "outputs": [],
   "source": [
    "# y_pred_test_pd = pd.DataFrame(y_pred_test,columns = ['prediction'])\n",
    "\n",
    "# valid = pd.merge(valid,y_pred_test_pd)\n",
    "\n",
    "# print(valid.loc[:,['power','prediction']])\n"
   ]
  }
 ],
 "metadata": {
  "kernelspec": {
   "display_name": "Python 3.10.5 64-bit",
   "language": "python",
   "name": "python3"
  },
  "language_info": {
   "codemirror_mode": {
    "name": "ipython",
    "version": 3
   },
   "file_extension": ".py",
   "mimetype": "text/x-python",
   "name": "python",
   "nbconvert_exporter": "python",
   "pygments_lexer": "ipython3",
   "version": "3.10.5"
  },
  "orig_nbformat": 4,
  "vscode": {
   "interpreter": {
    "hash": "a42ccb73e7d9bfdf27e036f1d2b8b681e55fc0743cc5586bc2474d4a60f4b886"
   }
  }
 },
 "nbformat": 4,
 "nbformat_minor": 2
}
